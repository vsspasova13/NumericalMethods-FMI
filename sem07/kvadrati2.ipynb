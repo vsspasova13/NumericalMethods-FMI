{
 "cells": [
  {
   "cell_type": "code",
   "execution_count": 2,
   "id": "170afc23-c39e-4067-ab94-414c36f5150f",
   "metadata": {},
   "outputs": [],
   "source": [
    "import numpy as np\n",
    "import matplotlib.pyplot as plt\n",
    "import scipy.optimize as opt"
   ]
  },
  {
   "cell_type": "code",
   "execution_count": 24,
   "id": "94e810af-92b0-469b-a110-c60560d150dd",
   "metadata": {},
   "outputs": [
    {
     "data": {
      "text/plain": [
       "array([0.2, 0.5])"
      ]
     },
     "execution_count": 24,
     "metadata": {},
     "output_type": "execute_result"
    }
   ],
   "source": [
    "xs = np.array([0, 1, 2, 3, 4])\n",
    "ys = np.array([0, 1, 1, 2, 2])\n",
    "\n",
    "s = xs.size\n",
    "A = np.zeros([2,2])\n",
    "b = np.zeros([2])\n",
    "\n",
    "for i in range(2):\n",
    "    for k in range (s):\n",
    "        b[i] += xs[k] ** i * ys[k]\n",
    "    for j in range (2):\n",
    "        for k in range (s):\n",
    "            A[i, j] += xs[k]**(j + i)\n",
    "\n",
    "np.linalg.solve(A,b)"
   ]
  },
  {
   "cell_type": "code",
   "execution_count": 74,
   "id": "d739bdf6-8abf-4ae7-9b42-d524e436c33c",
   "metadata": {},
   "outputs": [],
   "source": [
    "def least_squares_matrix(x, y, n):\n",
    "    s = x.size\n",
    "    A = np.zeros([n+1, n+1])\n",
    "    b = np.zeros([n+1])\n",
    "    for i in range (n+1):\n",
    "        for k in range (s):\n",
    "            b[i] += x[k]**i * y[k]\n",
    "        for j in range(n+1):\n",
    "            for k in range (s):\n",
    "                A[i,j] += x[k] ** (i+j)\n",
    "    return (np.linalg.solve(A, b))       "
   ]
  },
  {
   "cell_type": "code",
   "execution_count": 76,
   "id": "9ae0b90a-48e3-4271-b1c4-ff533e70b43b",
   "metadata": {},
   "outputs": [
    {
     "data": {
      "text/plain": [
       "array([-8.33280314e+02,  4.30363125e-01])"
      ]
     },
     "execution_count": 76,
     "metadata": {},
     "output_type": "execute_result"
    }
   ],
   "source": [
    "#zad 7.2\n",
    "import pandas as pd\n",
    "df = pd.read_csv('CO_2_data.csv')\n",
    "year = df['year']\n",
    "co2 = df['co2']\n",
    "\n",
    "least_squares_matrix(year, co2, 1)"
   ]
  },
  {
   "cell_type": "code",
   "execution_count": 83,
   "id": "631adb22-c891-4ef2-8dab-d15847d51cce",
   "metadata": {},
   "outputs": [
    {
     "data": {
      "text/plain": [
       "array([ 2787.95787836, -1334.75406706,   205.91711217,    -7.59606065])"
      ]
     },
     "execution_count": 83,
     "metadata": {},
     "output_type": "execute_result"
    }
   ],
   "source": [
    "#zad 7.3\n",
    "df = pd.read_csv('wind_turbine_data_sample.csv')\n",
    "wind = df['wind speed']\n",
    "power = df['power output']\n",
    "\n",
    "least_squares_matrix(wind, power, 3)"
   ]
  },
  {
   "cell_type": "code",
   "execution_count": 90,
   "id": "737e070f-9590-4df7-a9ba-57973e663231",
   "metadata": {},
   "outputs": [
    {
     "data": {
      "text/plain": [
       "array([-4.58770519e+04,  2.28562745e+01])"
      ]
     },
     "execution_count": 90,
     "metadata": {},
     "output_type": "execute_result"
    }
   ],
   "source": [
    "#zad 7.4\n",
    "df = pd.read_csv('amazon_sales_net_revenue.csv')\n",
    "year = df['year']\n",
    "revenue = df['revenue']\n",
    "\n",
    "least_squares_matrix(year, revenue, 1)"
   ]
  },
  {
   "cell_type": "code",
   "execution_count": 97,
   "id": "4a1c0d35-5866-4aa7-887f-93648f9b94c3",
   "metadata": {},
   "outputs": [
    {
     "data": {
      "text/plain": [
       "{x: 0, y: 0}"
      ]
     },
     "execution_count": 97,
     "metadata": {},
     "output_type": "execute_result"
    }
   ],
   "source": [
    "#4\n",
    "from sympy import symbols, diff, solve, Eq\n",
    "x,y = symbols('x, y')\n",
    "\n",
    "def f(x, y):\n",
    "    return (x - y - 1)**2 + (x + y -1)**2 + (x - y + 1)**2 + (x + y + 1)**2\n",
    "\n",
    "sol = solve([Eq(diff(f(x,y), x), 0),\n",
    "             Eq(diff(f(x,y), y), 0)])\n",
    "sol"
   ]
  },
  {
   "cell_type": "code",
   "execution_count": 99,
   "id": "9067287f-3597-4201-8f35-0b8266e98e7b",
   "metadata": {},
   "outputs": [
    {
     "data": {
      "text/plain": [
       "{x: -41/18, y: -1/18, z: 101/18}"
      ]
     },
     "execution_count": 99,
     "metadata": {},
     "output_type": "execute_result"
    }
   ],
   "source": [
    "#5\n",
    "x,y,z = symbols('x, y, z')\n",
    "\n",
    "phi = (2*x + y + z - 1)**2 + (x + 2*y + z - 2)**2 + (x + 3*y + z - 3)**2 + (x - 4*y + z - 4)**2 + (x + 5*y + z - 4)**2\n",
    "\n",
    "sol = solve([Eq(diff(phi, x), 0),\n",
    "             Eq(diff(phi, y), 0),\n",
    "             Eq(diff(phi, z), 0)])\n",
    "\n",
    "sol"
   ]
  },
  {
   "cell_type": "code",
   "execution_count": null,
   "id": "632960c7-9383-4d1e-b661-1267d37b0376",
   "metadata": {},
   "outputs": [],
   "source": []
  }
 ],
 "metadata": {
  "kernelspec": {
   "display_name": "anaconda-2024.02-py310",
   "language": "python",
   "name": "conda-env-anaconda-2024.02-py310-py"
  },
  "language_info": {
   "codemirror_mode": {
    "name": "ipython",
    "version": 3
   },
   "file_extension": ".py",
   "mimetype": "text/x-python",
   "name": "python",
   "nbconvert_exporter": "python",
   "pygments_lexer": "ipython3",
   "version": "3.10.14"
  }
 },
 "nbformat": 4,
 "nbformat_minor": 5
}
