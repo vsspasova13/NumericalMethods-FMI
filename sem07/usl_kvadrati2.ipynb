{
 "cells": [
  {
   "cell_type": "markdown",
   "id": "5a953755-a1cf-4966-ac14-dbd45c826522",
   "metadata": {},
   "source": [
    "# Метод на най-малките квадрати - Част 2. \n",
    "## Векторно-матрична форма. Решаване на преопределени системи от уравнения."
   ]
  },
  {
   "cell_type": "code",
   "execution_count": 2,
   "id": "32a693a8-f838-4797-8a9a-8a4600f62eec",
   "metadata": {},
   "outputs": [],
   "source": [
    "import numpy as np\n",
    "import matplotlib.pyplot as plt\n",
    "import scipy.optimize as opt"
   ]
  },
  {
   "cell_type": "markdown",
   "id": "21de2700-f634-4427-bd83-2c98a97f0d61",
   "metadata": {},
   "source": [
    "### Задача 1\n",
    "\n",
    "Като се използва векторно-мартричната форма на метода на май-малките квадрати за приближаване с алгебрични полиноми, \n",
    "Да се намери линейна функция, която приближава данните от таблицата\n",
    "\n",
    "|x| 0 | 1 | 2 | 3 | 4\n",
    "|---|---|---|---|---|---|\n",
    "|y|0|1|1|2|2|"
   ]
  },
  {
   "cell_type": "code",
   "execution_count": 4,
   "id": "3e1df816-f11c-44a6-ab19-0aa3cd6ba962",
   "metadata": {},
   "outputs": [
    {
     "name": "stdout",
     "output_type": "stream",
     "text": [
      "[[ 5. 10.]\n",
      " [10. 30.]]\n",
      "[ 6. 17.]\n"
     ]
    },
    {
     "data": {
      "text/plain": [
       "array([0.2, 0.5])"
      ]
     },
     "execution_count": 4,
     "metadata": {},
     "output_type": "execute_result"
    }
   ],
   "source": [
    "x = np.array([0, 1, 2, 3, 4])\n",
    "y = np.array([0, 1, 1, 2, 2])\n",
    "\n",
    "s = x.size\n",
    "A = np.zeros([2, 2])\n",
    "b = np.zeros([2])\n",
    "for i in range(2):\n",
    "    for k in range(s):\n",
    "        b[i] += x[k] ** i * y[k]\n",
    "    for j in range(2):\n",
    "        for k in range(s):\n",
    "            A[i, j] += x[k] ** (i + j)\n",
    "\n",
    "print(A)\n",
    "print(b)\n",
    "np.linalg.solve(A, b)"
   ]
  },
  {
   "cell_type": "markdown",
   "id": "3e62f5cd-5ffd-411e-9ac3-2c9603f9b657",
   "metadata": {},
   "source": [
    "### Задача 2\n",
    "\n",
    "Да се напише функция *least_squares_matrix(x, y, n)*, която приближава точките с коориднати $\\{x_i,y_i\\}, i = 0,\\dots s $ с алгебричен полином от степен $n$ по метода на най-малките квадрати, записан във векторно-матрична форма, където *x* и *y* са списъци с реални числа."
   ]
  },
  {
   "cell_type": "code",
   "execution_count": 6,
   "id": "e664f442-a2aa-465c-ad64-4809cb145d3c",
   "metadata": {},
   "outputs": [],
   "source": [
    "def least_squares_matrix(x, y, n):\n",
    "    s = x.size\n",
    "    A = np.zeros([n + 1, n + 1])\n",
    "    b = np.zeros([n + 1])\n",
    "    for i in range(n + 1):\n",
    "        for k in range(s):\n",
    "            b[i] += x[k] ** i * y[k]\n",
    "        for j in range(n + 1):\n",
    "            for k in range(s):\n",
    "                A[i, j] += x[k] ** (i + j)\n",
    "    return(np.linalg.solve(A, b))"
   ]
  },
  {
   "cell_type": "markdown",
   "id": "c4aff6dc-2b3b-44ec-8c8d-973372743856",
   "metadata": {},
   "source": [
    "### Задача 3\n",
    "\n",
    "Като се използва написаната в Задача 2 функция, да се решат Задачи 2, 3 и 4 от Упражнение 7."
   ]
  },
  {
   "cell_type": "code",
   "execution_count": 8,
   "id": "845f5b6a-f3bf-47f1-9100-31101dd0ba25",
   "metadata": {},
   "outputs": [
    {
     "data": {
      "text/plain": [
       "array([-8.33280314e+02,  4.30363125e-01])"
      ]
     },
     "execution_count": 8,
     "metadata": {},
     "output_type": "execute_result"
    }
   ],
   "source": [
    "# Задача 2 - въглероден диоксид\n",
    "import pandas as pd\n",
    "df = pd.read_csv('CO_2_data.csv')\n",
    "df.head()\n",
    "years = df.loc[:, \"year\"]\n",
    "co2 = df.loc[:, \"co2\"]\n",
    "\n",
    "least_squares_matrix(years, co2, 1)"
   ]
  },
  {
   "cell_type": "code",
   "execution_count": 9,
   "id": "803adcd8-c75f-4ebb-bbad-f73ff83e3cee",
   "metadata": {},
   "outputs": [
    {
     "data": {
      "text/plain": [
       "array([ 2787.9578783 , -1334.75406703,   205.91711217,    -7.59606065])"
      ]
     },
     "execution_count": 9,
     "metadata": {},
     "output_type": "execute_result"
    }
   ],
   "source": [
    "# Задача 3 - вятърна енергия\n",
    "df = pd.read_csv('wind_turbine_data_sample.csv')\n",
    "df.head()\n",
    "wind_speed = df.loc[:, \"wind speed\"]\n",
    "power_output = df.loc[:, \"power output\"]\n",
    "\n",
    "least_squares_matrix(wind_speed, power_output, 3)"
   ]
  },
  {
   "cell_type": "code",
   "execution_count": 10,
   "id": "e5f3ae82-dd85-4dae-a436-e735da04664c",
   "metadata": {},
   "outputs": [
    {
     "data": {
      "text/plain": [
       "array([-4.97459710e+02,  2.49215934e-01])"
      ]
     },
     "execution_count": 10,
     "metadata": {},
     "output_type": "execute_result"
    }
   ],
   "source": [
    "# Задача 4 - Amazon.com\n",
    "df = pd.read_csv('amazon_sales_net_revenue.csv')\n",
    "years = df.loc[:, \"year\"]\n",
    "revenue = df.loc[:, \"revenue\"]\n",
    "revenue_log = np.log(revenue)\n",
    "\n",
    "least_squares_matrix(years, revenue_log, 1)"
   ]
  },
  {
   "cell_type": "markdown",
   "id": "a61299f2-82e0-43d7-b1c4-60dbe07bd859",
   "metadata": {},
   "source": [
    "### Задача 4\n",
    "Да се реши преопределената система\n",
    "\n",
    "$$\n",
    "\\left|\n",
    "\\begin{aligned}\n",
    "x-y&=1\\\\\n",
    "x+y&=1\\\\\n",
    "x+y&=-1\\\\\n",
    "x-y&=-1\n",
    "\\end{aligned}\n",
    "\\right.\n",
    "$$"
   ]
  },
  {
   "cell_type": "code",
   "execution_count": 12,
   "id": "6251e310-0f5e-42e9-a308-46f5bf685d1b",
   "metadata": {},
   "outputs": [
    {
     "data": {
      "text/plain": [
       "{x: 0, y: 0}"
      ]
     },
     "execution_count": 12,
     "metadata": {},
     "output_type": "execute_result"
    }
   ],
   "source": [
    "from sympy import symbols, diff, solve, Eq\n",
    "x, y = symbols('x y')\n",
    "\n",
    "def objective(x, y):\n",
    "    return (x - y - 1) ** 2 + (x + y - 1) ** 2 + (x + y + 1) ** 2 + (x - y + 1) ** 2\n",
    "\n",
    "equations = [Eq(diff(objective(x, y), x), 0),\n",
    "             Eq(diff(objective(x, y), y), 0)]\n",
    "\n",
    "solve(equations)"
   ]
  },
  {
   "cell_type": "markdown",
   "id": "add9f8e4-c84f-4822-a98c-1b9e23f41cca",
   "metadata": {},
   "source": [
    "### Задача 5\n",
    "\n",
    "Да се реши преопределената система\n",
    "\n",
    "$$\n",
    "\\left|\n",
    "\\begin{aligned}\n",
    "2 x + y + z &= 1\\\\\n",
    "x + 2y + z&=2\\\\\n",
    "x + 3y + z &= 3\\\\\n",
    "x - 4y + z &= 4\\\\\n",
    "x + 5y + z &= 4\n",
    "\\end{aligned}\n",
    "\\right.\n",
    "$$"
   ]
  },
  {
   "cell_type": "code",
   "execution_count": 44,
   "id": "89cfed50-814a-4e12-a84c-2c1742bc8e32",
   "metadata": {},
   "outputs": [
    {
     "data": {
      "text/latex": [
       "$\\displaystyle \\left(x - 4 y + z - 4\\right)^{2} + \\left(x + 2 y + z - 2\\right)^{2} + \\left(x + 3 y + z - 3\\right)^{2} + \\left(x + 5 y + z - 4\\right)^{2} + \\left(2 x + y + z - 1\\right)^{2}$"
      ],
      "text/plain": [
       "(x - 4*y + z - 4)**2 + (x + 2*y + z - 2)**2 + (x + 3*y + z - 3)**2 + (x + 5*y + z - 4)**2 + (2*x + y + z - 1)**2"
      ]
     },
     "execution_count": 44,
     "metadata": {},
     "output_type": "execute_result"
    }
   ],
   "source": [
    "from sympy import symbols, diff, solve, Eq\n",
    "\n",
    "x, y, z = symbols('x, y, z')\n",
    "\n",
    "phi = (2*x + y + z - 1) ** 2 + (x + 2*y +z - 2) ** 2 + (x + 3*y+z - 3) ** 2 + (x - 4* y + z - 4) ** 2 + (x + 5* y+z -4) **2\n",
    "phi"
   ]
  },
  {
   "cell_type": "code",
   "execution_count": 46,
   "id": "257793fd-e07f-40ea-82c5-1b9c791ffac1",
   "metadata": {},
   "outputs": [
    {
     "data": {
      "text/plain": [
       "{x: -41/18, y: -1/18, z: 101/18}"
      ]
     },
     "execution_count": 46,
     "metadata": {},
     "output_type": "execute_result"
    }
   ],
   "source": [
    "solve([Eq(diff(phi, x), 0),\n",
    " Eq(diff(phi, y), 0),\n",
    " Eq(diff(phi, z), 0)])"
   ]
  }
 ],
 "metadata": {
  "kernelspec": {
   "display_name": "anaconda-panel-2023.05-py310",
   "language": "python",
   "name": "conda-env-anaconda-panel-2023.05-py310-py"
  },
  "language_info": {
   "codemirror_mode": {
    "name": "ipython",
    "version": 3
   },
   "file_extension": ".py",
   "mimetype": "text/x-python",
   "name": "python",
   "nbconvert_exporter": "python",
   "pygments_lexer": "ipython3",
   "version": "3.11.5"
  }
 },
 "nbformat": 4,
 "nbformat_minor": 5
}
