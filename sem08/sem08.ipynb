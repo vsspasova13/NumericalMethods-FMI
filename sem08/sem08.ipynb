{
 "cells": [
  {
   "cell_type": "code",
   "execution_count": 144,
   "id": "4d858de1-7876-41d7-a3a9-cdad8fa2ed6f",
   "metadata": {},
   "outputs": [],
   "source": [
    "import scipy as sp\n",
    "import numpy as np\n",
    "import matplotlib.pyplot as plt\n",
    "from sympy import symbols, diff, lambdify"
   ]
  },
  {
   "cell_type": "code",
   "execution_count": 22,
   "id": "a45929aa-7f93-44d1-b4f6-e54b7ff78806",
   "metadata": {},
   "outputs": [
    {
     "data": {
      "text/plain": [
       "0.375"
      ]
     },
     "execution_count": 22,
     "metadata": {},
     "output_type": "execute_result"
    }
   ],
   "source": [
    "#1\n",
    "a = 1/2\n",
    "b = 3/2\n",
    "\n",
    "x = symbols('x')\n",
    "f_sym = x**3\n",
    "\n",
    "#rectangles\n",
    "def rectangles(a, b , f):\n",
    "    return (b - a)*f((a+b)/2)\n",
    "\n",
    "exact_value = 1.25\n",
    "absolute_error = exact_value - rectangles(a,b,f)\n",
    "absolute_error\n",
    "\n",
    "f_second_diff = diff(f_sym, x, 2)\n",
    "f_double_prime = lambdify(x, f_second_diff, 'numpy')\n",
    "\n",
    "psi = np.linspace(a, b, 1000)\n",
    "f_double_prime_max = max(abs(f_double_prime(psi)))\n",
    "\n",
    "error_rect = (f_double_prime_max / 24) * (b - a)**3\n",
    "error_rect"
   ]
  },
  {
   "cell_type": "code",
   "execution_count": 28,
   "id": "d73405f6-992c-456e-9bbd-643358178b76",
   "metadata": {},
   "outputs": [
    {
     "data": {
      "text/plain": [
       "0.75"
      ]
     },
     "execution_count": 28,
     "metadata": {},
     "output_type": "execute_result"
    }
   ],
   "source": [
    "#trapezoids\n",
    "def trap(a,b,f):\n",
    "    return (b-a)/2*(f(a) + f(b))\n",
    "\n",
    "absolute_error = abs(exact_value - trap(a,b,f))\n",
    "absolute_error\n",
    "\n",
    "f_second_diff = diff(f_sym, x, 2)\n",
    "f_double_prime = lambdify(x, f_second_diff, 'numpy')\n",
    "\n",
    "psi = np.linspace(a,b,1000)\n",
    "f_double_prime_max = max(abs(f_double_prime(psi)))\n",
    "\n",
    "error_trap = (f_double_prime_max / 12)*(b-a)**3\n",
    "error_trap\n",
    "                         "
   ]
  },
  {
   "cell_type": "code",
   "execution_count": 56,
   "id": "dda154a4-9ae2-4831-8844-954e401fbc23",
   "metadata": {},
   "outputs": [],
   "source": [
    "#Simpson\n",
    "x = symbols('x')\n",
    "f_sym = x**3\n",
    "f = lambdify(x, f_sym, 'numpy')\n",
    "\n",
    "def Simpson(a,b,f):\n",
    "    return ((b-a)/6) * (f(a) + 4 * f((a+b)/2) + f(b))\n",
    "\n",
    "absolute_error = abs(exact_value - Simpson(a,b,f))\n",
    "absolute_error\n",
    "\n",
    "f_fourth_diff = diff(f_sym, x, 4)\n",
    "f_fourth_prime = lambdify(x, f_fourth_diff, 'numpy')\n",
    "\n",
    "\n",
    "psi = np.linspace(a, b, 1000)  \n",
    "f_fourth_prime_values = f_fourth_prime(psi)  \n",
    "f_fourth_prime_max = max(abs(f_fourth_prime_values)) \n",
    "\n",
    "error_Simpson = (f_fourth_prime_max / 2880)*(b-a)**5\n",
    "error_Simpson"
   ]
  },
  {
   "cell_type": "code",
   "execution_count": 68,
   "id": "36af8900-e0d9-4ac7-b06b-3f6b64940540",
   "metadata": {},
   "outputs": [
    {
     "name": "stdout",
     "output_type": "stream",
     "text": [
      "(0.804964022751974, 8.936895920541299e-15)\n"
     ]
    },
    {
     "data": {
      "image/png": "[encoded data removed]",
      "text/plain": [
       "<Figure size 640x480 with 1 Axes>"
      ]
     },
     "metadata": {},
     "output_type": "display_data"
    },
    {
     "name": "stdout",
     "output_type": "stream",
     "text": [
      "Rectangles:  0.9515614907107687\n",
      "Trapezoids:  0.5251875296832664\n",
      "Simpson:  0.33365609167955024\n"
     ]
    }
   ],
   "source": [
    "#2\n",
    "def f(x):\n",
    "    return np.sin(x)/np.log(x)\n",
    "\n",
    "a = 7\n",
    "b = 9\n",
    "\n",
    "print(sp.integrate.quad(f, a, b))\n",
    "\n",
    "x_axis = np.linspace(7,9,100)\n",
    "plt.plot(x_axis, f(x_axis))\n",
    "plt.show()\n",
    "\n",
    "print(\"Rectangles: \", (b - a)*f((a+b)/2))\n",
    "\n",
    "print(\"Trapezoids: \", ((b-a)/2)*(f(a) + f(b)))\n",
    "\n",
    "print(\"Simpson: \", ((b-a)/6)*(f(a) + f((a+b)/2) + f(b)))"
   ]
  },
  {
   "cell_type": "code",
   "execution_count": 74,
   "id": "018aea0d-d096-4066-940e-63d827163e8d",
   "metadata": {},
   "outputs": [
    {
     "data": {
      "text/plain": [
       "91.28709291752769"
      ]
     },
     "execution_count": 74,
     "metadata": {},
     "output_type": "execute_result"
    }
   ],
   "source": [
    "#3\n",
    "np.sqrt(10**5/12)"
   ]
  },
  {
   "cell_type": "code",
   "execution_count": 78,
   "id": "68a27769-4e61-4218-b7de-cd4e99e47836",
   "metadata": {},
   "outputs": [
    {
     "name": "stdout",
     "output_type": "stream",
     "text": [
      "0.6931471805599453\n"
     ]
    }
   ],
   "source": [
    "a = 1\n",
    "b = 2\n",
    "def f(x):\n",
    "    return 1/x\n",
    "\n",
    "exact_val = np.log(2)\n",
    "print(exact_val)"
   ]
  },
  {
   "cell_type": "code",
   "execution_count": 99,
   "id": "af4b6d6c-155e-4190-92ef-46c5e0bb3a0b",
   "metadata": {},
   "outputs": [
    {
     "name": "stdout",
     "output_type": "stream",
     "text": [
      "n:  92\n",
      "Approximation:  0.6931434885476101\n",
      "Absolute error:  3.6920123351880108e-06\n"
     ]
    }
   ],
   "source": [
    "#rectangles\n",
    "\n",
    "n = int(np.ceil(100 * np.sqrt(10) / (2 * np.sqrt(3))))\n",
    "print(\"n: \", n)\n",
    "\n",
    "x_mesh = np.linspace(a, b, n+1)\n",
    "approx_val = 0\n",
    "\n",
    "for i in range (x_mesh.size - 1):\n",
    "    approx_val += f((x_mesh[i] + x_mesh[i+1])/2)\n",
    "\n",
    "approx_val = approx_val * (b-a)/n\n",
    "print(\"Approximation: \", approx_val)\n",
    "print(\"Absolute error: \", exact_val - approx_val)"
   ]
  },
  {
   "cell_type": "code",
   "execution_count": 122,
   "id": "fd0d5e3a-777b-4671-b9b3-ff7cc39077c9",
   "metadata": {},
   "outputs": [
    {
     "name": "stdout",
     "output_type": "stream",
     "text": [
      "n:  130\n",
      "Approximation:  0.6931508787574442\n",
      "Absolute error:  -3.6981974989025446e-06\n"
     ]
    }
   ],
   "source": [
    "#trapezoids\n",
    "\n",
    "n = int(np.ceil(100 * np.sqrt(10) / (np.sqrt(6))))\n",
    "print(\"n: \", n)\n",
    "\n",
    "x_mesh = np.linspace(a, b, n + 1)\n",
    "\n",
    "approx_val = 0\n",
    "for i in range (x_mesh.size - 1):\n",
    "    approx_val += f(x_mesh[i]) + f(x_mesh[i+1])\n",
    "\n",
    "approx_val *= (b - a) / (2 * n)\n",
    "print(\"Approximation: \", approx_val)\n",
    "print(\"Absolute error: \", exact_val - approx_val)"
   ]
  },
  {
   "cell_type": "code",
   "execution_count": 151,
   "id": "406c46cc-169d-446c-9dad-fd972b9a5970",
   "metadata": {},
   "outputs": [
    {
     "name": "stdout",
     "output_type": "stream",
     "text": [
      "n:  6\n",
      "Approximation:  0.693148662209101\n",
      "Absolute error:  -1.4816491556990385e-06\n"
     ]
    }
   ],
   "source": [
    "#Simpson\n",
    "\n",
    "n = int(np.ceil(5 * np.sqrt(2) / np.power(3, 1 / 4)))\n",
    "print(\"n: \", n)\n",
    "\n",
    "x_mesh = np.linspace(a, b, n+1)\n",
    "\n",
    "approx_val = 0\n",
    "for i in range (x_mesh.size - 1):\n",
    "    approx_val += f(x_mesh[i]) + 4 * f((x_mesh[i] + x_mesh[i+1])/2) + f(x_mesh[i+1])\n",
    "\n",
    "approx_val *= (b - a) / (6 * n)\n",
    "print(\"Approximation: \", approx_val)\n",
    "print(\"Absolute error: \", exact_val - approx_val)"
   ]
  },
  {
   "cell_type": "code",
   "execution_count": null,
   "id": "44d53040-88a9-444a-8125-d2d48b1f9e6b",
   "metadata": {},
   "outputs": [],
   "source": []
  }
 ],
 "metadata": {
  "kernelspec": {
   "display_name": "anaconda-2024.02-py310",
   "language": "python",
   "name": "conda-env-anaconda-2024.02-py310-py"
  },
  "language_info": {
   "codemirror_mode": {
    "name": "ipython",
    "version": 3
   },
   "file_extension": ".py",
   "mimetype": "text/x-python",
   "name": "python",
   "nbconvert_exporter": "python",
   "pygments_lexer": "ipython3",
   "version": "3.10.14"
  }
 },
 "nbformat": 4,
 "nbformat_minor": 5
}
