{
 "cells": [
  {
   "cell_type": "code",
   "execution_count": 1,
   "id": "b41a3b86",
   "metadata": {},
   "outputs": [],
   "source": [
    "import scipy as sp\n",
    "import numpy as np\n",
    "import matplotlib.pyplot as plt"
   ]
  },
  {
   "cell_type": "markdown",
   "id": "4726c10e",
   "metadata": {},
   "source": [
    "# Числено интегриране\n",
    "## Квадратурна формула на Гаус"
   ]
  },
  {
   "cell_type": "markdown",
   "id": "956a0524-366b-4c53-b85e-f85b2530c433",
   "metadata": {},
   "source": [
    "### Задача 1\n",
    "\n",
    "По метода на неопределените коефициенти да се намери формула на Гаус-Льожандър с 2 възела."
   ]
  },
  {
   "cell_type": "code",
   "execution_count": 2,
   "id": "b3d4b2f2-3f94-4cdc-a86b-8e554798805e",
   "metadata": {},
   "outputs": [],
   "source": [
    "from sympy import symbols, Eq, solve, integrate,sin"
   ]
  },
  {
   "cell_type": "code",
   "execution_count": null,
   "id": "6d42a86b-b408-4f24-9f66-73a3a9524d13",
   "metadata": {},
   "outputs": [],
   "source": [
    "A1, x1, A2, x2, x = symbols('A1 x1 A2 x2 x')\n",
    "equations = [Eq(A1          + A2,           integrate(1,      (x, -1, 1))), \n",
    "            Eq(A1 * x1      + A2 * x2,      integrate(x,      (x, -1, 1))),\n",
    "            Eq(A1 * x1 ** 2 + A2 * x2 ** 2, integrate(x ** 2, (x, -1, 1))),\n",
    "            Eq(A1 * x1 ** 3 + A2 * x2 ** 3, integrate(x ** 3, (x, -1, 1)))]\n",
    "\n",
    "sol = solve(equations, A1, x1, A2, x2, dict = True)\n",
    "sol"
   ]
  },
  {
   "cell_type": "markdown",
   "id": "eda1f047-d0bb-4c62-ae13-d815afc46a14",
   "metadata": {},
   "source": [
    "### Задача 2\n",
    "\n",
    "По метода на неопределените коефициенти да се намери формула на Гаус-Льожандър с 3 възела."
   ]
  },
  {
   "cell_type": "code",
   "execution_count": null,
   "id": "d18d7f76-237c-4238-90ff-2150ca7a9c79",
   "metadata": {},
   "outputs": [],
   "source": [
    "A1, x1, A2, x2, A3, x3, x = symbols('A1, x1, A2, x2, A3, x3, x')\n",
    "\n",
    "equations = [\n",
    "    Eq(A1 + A2 + A3, integrate(1, (x, -1, 1))),  \n",
    "    Eq(A1 * x1 + A2 * x2 + A3 * x3, integrate(x, (x, -1, 1))), \n",
    "    Eq(A1 * x1**2 + A2 * x2**2 + A3 * x3**2, integrate(x**2, (x, -1, 1))),  \n",
    "    Eq(A1 * x1**3 + A2 * x2**3 + A3 * x3**3, integrate(x**3, (x, -1, 1))) \n",
    "]\n",
    "\n",
    "sol = solve(equations, (A1, x1, A2, x2, A3, x3), dict=True)\n",
    "\n",
    "sol"
   ]
  },
  {
   "cell_type": "markdown",
   "id": "cceac7bf",
   "metadata": {},
   "source": [
    "## Задача 3\n",
    "\n",
    "Да се пресметне приближено стойността на \n",
    "\n",
    "$$ \\int_{0}^{0.8} f(x) \\,dx $$\n",
    "\n",
    "където \n",
    "$$ f(x) = 0.2 + 25x - 200x^2 +675 x^3 - 900x^4 + 400x^5, $$\n",
    "\n",
    "като се използват формулите на Гаус-Льожандър с 2 и 3 възела. Да се сравни с точната стойност.Да се сравни със стойността, която се получава по формулите на трапеците и Симпсън.\n",
    "\n"
   ]
  },
  {
   "cell_type": "code",
   "execution_count": null,
   "id": "9f4e0351-67f0-4e57-ae23-34013c29afee",
   "metadata": {},
   "outputs": [],
   "source": [
    "from sympy import symbols, integrate\n",
    "\n",
    "x = symbols('x')\n",
    "\n",
    "def f(x):\n",
    "    return 0.2 + 25 * x - 200 * x ** 2 + 675 * x ** 3 - 900 * x ** 4 + 400 * x ** 5\n",
    "    \n",
    "exact_val = integrate(f(x), (x, 0, 0.8))\n",
    "print(\"Exact value: \", exact_val)\n",
    "\n",
    "t = symbols('t')\n",
    "\n",
    "def phi(t):\n",
    "    return 0.4 * f(0.4 + 0.4 * t)\n"
   ]
  },
  {
   "cell_type": "markdown",
   "id": "a234d767",
   "metadata": {},
   "source": [
    "### Задача 4\n",
    "Да се намери квадратурна формула на Гаус с 3 възела с тегло $\\mu (x) = 1$ в интереала $[0,1]$. Последната да се използва, за да се пресметне\n",
    "\n",
    "$$ \\int_{0}^{1} \\sin(2x) \\,dx. $$"
   ]
  },
  {
   "cell_type": "code",
   "execution_count": null,
   "id": "bce4622c-f7d1-4415-a6c0-69c11e8a0604",
   "metadata": {},
   "outputs": [],
   "source": [
    "x = symbols('x')\n",
    "\n",
    "def f(x):\n",
    "    return sin(2*x)\n",
    "\n",
    "a = 0\n",
    "b = 1\n",
    "\n",
    "exact_val = integrate(f(x), (x,0,1))\n",
    "print(\"Exact value: \", exact_val)\n",
    "\n",
    "t = symbols('t')\n",
    "def transformed_f(t):\n",
    "    x_transformed = (b - a) * t / 2 + (b + a) / 2  \n",
    "    return f(x_transformed) * (b - a) / 2  \n",
    "    \n",
    "solution = gaus3()\n",
    "\n",
    "approx_integral = 0\n",
    "for i in range(3):\n",
    "    approx_integral += solution[f'A{i+1}'] * transformed_f(solution[f'x{i+1}'])\n",
    "\n",
    "print(\"Gauss Quadrature Approximation:\", approx_integral)"
   ]
  },
  {
   "cell_type": "code",
   "execution_count": null,
   "id": "bf9b25a9-8a93-4e6f-b22e-fb97e28cded2",
   "metadata": {},
   "outputs": [],
   "source": []
  }
 ],
 "metadata": {
  "kernelspec": {
   "display_name": "anaconda-2022.05-py39",
   "language": "python",
   "name": "conda-env-anaconda-2022.05-py39-py"
  },
  "language_info": {
   "codemirror_mode": {
    "name": "ipython",
    "version": 3
   },
   "file_extension": ".py",
   "mimetype": "text/x-python",
   "name": "python",
   "nbconvert_exporter": "python",
   "pygments_lexer": "ipython3",
   "version": "3.9.12"
  }
 },
 "nbformat": 4,
 "nbformat_minor": 5
}
