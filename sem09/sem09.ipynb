{
 "cells": [
  {
   "cell_type": "code",
   "execution_count": 1,
   "id": "0fac0ac5-b994-4e91-ba9c-cc79fbf8e747",
   "metadata": {},
   "outputs": [],
   "source": [
    "import scipy as sp\n",
    "import numpy as np\n",
    "import matplotlib.pyplot as plt"
   ]
  },
  {
   "cell_type": "code",
   "execution_count": 2,
   "id": "4157bdec-81e5-4da5-8f87-c56201fbfc1a",
   "metadata": {},
   "outputs": [
    {
     "data": {
      "text/plain": [
       "[{A1: 1, A2: 1, x1: -sqrt(3)/3, x2: sqrt(3)/3},\n",
       " {A1: 1, A2: 1, x1: sqrt(3)/3, x2: -sqrt(3)/3}]"
      ]
     },
     "execution_count": 2,
     "metadata": {},
     "output_type": "execute_result"
    }
   ],
   "source": [
    "#1\n",
    "from sympy import symbols, Eq, solve, integrate\n",
    "\n",
    "A1, x1, A2, x2, x = symbols('A1, x1, A2, x2, x')\n",
    "equations = [Eq(A1 + A2, integrate(1, (x, -1, 1))),\n",
    "             Eq(A1 * x1 + A2 * x2, integrate(x, (x, -1, 1))),\n",
    "             Eq(A1 * x1 **2 + A2 * x2 ** 2, integrate(x ** 2, (x, -1, 1))),\n",
    "             Eq(A1 * x1 **3 + A2 * x2 ** 3, integrate(x ** 3, (x, -1, 1)))]\n",
    "\n",
    "sol = solve(equations, A1, x1, A2, x2, x, dict = True)\n",
    "sol"
   ]
  },
  {
   "cell_type": "code",
   "execution_count": 5,
   "id": "bcc943e0-a893-4503-8c74-7aef5a5783cd",
   "metadata": {},
   "outputs": [
    {
     "data": {
      "text/plain": [
       "[(5/9, -sqrt(15)/5, 5/9, sqrt(15)/5, 8/9, 0, x),\n",
       " (5/9, sqrt(15)/5, 5/9, -sqrt(15)/5, 8/9, 0, x),\n",
       " (5/9, -sqrt(15)/5, 8/9, 0, 5/9, sqrt(15)/5, x),\n",
       " (5/9, sqrt(15)/5, 8/9, 0, 5/9, -sqrt(15)/5, x),\n",
       " (8/9, 0, 5/9, -sqrt(15)/5, 5/9, sqrt(15)/5, x),\n",
       " (8/9, 0, 5/9, sqrt(15)/5, 5/9, -sqrt(15)/5, x)]"
      ]
     },
     "execution_count": 5,
     "metadata": {},
     "output_type": "execute_result"
    }
   ],
   "source": [
    "#2\n",
    "A1, x1, A2, x2, A3, x3, x = symbols('A1, x1, A2, x2, A3, x3, x')\n",
    "equations = [Eq(A1 + A2 + A3, integrate(1, (x, -1, 1))),\n",
    "             Eq(A1 * x1 + A2 * x2 + A3 * x3, integrate(x, (x, -1, 1))),\n",
    "             Eq(A1 * x1 **2 + A2 *x2**2 + A3 * x3**2, integrate(x**2, (x, -1, 1))),\n",
    "             Eq(A1 * x1 **3 + A2 *x2**3 + A3 * x3**3, integrate(x**3, (x, -1, 1))),\n",
    "             Eq(A1 * x1 **4 + A2 *x2**4 + A3 * x3**4, integrate(x**4, (x, -1, 1))),\n",
    "             Eq(A1 * x1 **5 + A2 *x2**5 + A3 * x3**5, integrate(x**5, (x, -1, 1)))]\n",
    "\n",
    "sol = solve(equations, A1, x1, A2, x2, A3, x3, x)\n",
    "sol"
   ]
  },
  {
   "cell_type": "code",
   "execution_count": null,
   "id": "5d9c1114-babe-4f9e-a371-09a35a7650f4",
   "metadata": {},
   "outputs": [],
   "source": [
    "#3\n"
   ]
  },
  {
   "cell_type": "code",
   "execution_count": null,
   "id": "3bbb86aa-9b30-4e05-8ae0-9009e7f34e6d",
   "metadata": {},
   "outputs": [],
   "source": []
  }
 ],
 "metadata": {
  "kernelspec": {
   "display_name": "anaconda-2024.02-py310",
   "language": "python",
   "name": "conda-env-anaconda-2024.02-py310-py"
  },
  "language_info": {
   "codemirror_mode": {
    "name": "ipython",
    "version": 3
   },
   "file_extension": ".py",
   "mimetype": "text/x-python",
   "name": "python",
   "nbconvert_exporter": "python",
   "pygments_lexer": "ipython3",
   "version": "3.10.14"
  }
 },
 "nbformat": 4,
 "nbformat_minor": 5
}
